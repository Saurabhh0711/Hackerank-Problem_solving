{
 "cells": [
  {
   "cell_type": "code",
   "execution_count": null,
   "id": "ed9706ae",
   "metadata": {},
   "outputs": [],
   "source": [
    "#problem 1\n",
    "\n",
    "import re\n",
    "for _ in range(int(input())):\n",
    "    print(bool(re.match(\"^[-+]?[0-9]*\\.[0-9]+$\", input())))\n"
   ]
  },
  {
   "cell_type": "code",
   "execution_count": null,
   "id": "455fe0ac",
   "metadata": {},
   "outputs": [],
   "source": [
    "#problem 2\n",
    "\n",
    "regex_pattern = r'[.,]+'\n",
    "\n",
    "\n",
    "import re\n",
    "print(\"\\n\".join(re.split(regex_pattern, input())))"
   ]
  },
  {
   "cell_type": "code",
   "execution_count": null,
   "id": "dc0a4cae",
   "metadata": {},
   "outputs": [],
   "source": [
    "#problem 3 \n",
    "\n",
    "import re\n",
    "m=input()\n",
    "s=re.search(r\"(?P<repeat>([a-z0-9])\\2?(?:\\2))+\",m)\n",
    "print(s.groupdict()['repeat'][0] if s else '-1')"
   ]
  },
  {
   "cell_type": "code",
   "execution_count": null,
   "id": "c2bf2547",
   "metadata": {},
   "outputs": [],
   "source": [
    "#problem 4 \n",
    "\n",
    "import re\n",
    "vowels = 'aeiou'\n",
    "consonants = 'qwrtypsdfghjklzxcvbnm'\n",
    "match = re.findall(r'(?<=[' + consonants + '])([' + vowels + ']{2,})(?=[' + consonants + '])', input(), flags=re.I)\n",
    "\n",
    "print('\\n'.join(match or ['-1']))"
   ]
  },
  {
   "cell_type": "code",
   "execution_count": null,
   "id": "7defae00",
   "metadata": {},
   "outputs": [],
   "source": [
    "#problem 5\n",
    "\n",
    "rt re\n",
    "s = input()\n",
    "k = input()\n",
    "patt = re.compile(k)\n",
    "match = patt.search(s)\n",
    "if not match: print('(-1, -1)')\n",
    "while match:\n",
    "    print('({0}, {1})'.format(match.start(), match.end() - 1))\n",
    "    match = patt.search(s, match.start() + 1)"
   ]
  },
  {
   "cell_type": "code",
   "execution_count": null,
   "id": "af2913fa",
   "metadata": {},
   "outputs": [],
   "source": [
    "#problem 6\n",
    "\n",
    "import re\n",
    "for a in range(int(input())):\n",
    "    print(re.sub(r'(?<= )(&&|\\|\\|)(?= )', lambda x: 'and' if x.group() == '&&' else 'or', input()))"
   ]
  },
  {
   "cell_type": "code",
   "execution_count": null,
   "id": "2cddc8d2",
   "metadata": {},
   "outputs": [],
   "source": [
    "#problem 7\n",
    "\n",
    "import re\n",
    "thousand = 'M{0,3}'\n",
    "hundred = '(C[MD]|D?C{0,3})'\n",
    "ten = '(X[CL]|L?X{0,3})'\n",
    "digit = '(I[VX]|V?I{0,3})'\n",
    "regex_pattern=(thousand + hundred+ten+digit+'$')\n",
    "\n",
    "import re\n",
    "print(str(bool(re.match(regex_pattern, input()))))"
   ]
  },
  {
   "cell_type": "code",
   "execution_count": null,
   "id": "9d023a12",
   "metadata": {},
   "outputs": [],
   "source": [
    "#problem 8\n",
    "\n",
    "import re\n",
    "n=int(input())\n",
    "r=re.compile(\"^[789]\\d{9}$\")\n",
    "for i in range(n):\n",
    "    number=input()\n",
    "    if r.search(number):\n",
    "        print(\"YES\")\n",
    "    else:\n",
    "        print(\"NO\")"
   ]
  },
  {
   "cell_type": "code",
   "execution_count": null,
   "id": "fae7bc67",
   "metadata": {},
   "outputs": [],
   "source": [
    "#problem 9\n",
    "\n",
    "import re\n",
    "n = int(input())\n",
    "for i in range(n):\n",
    "    x, y = input().split(' ')\n",
    "    m = re.match(r'<[A-Za-z](\\w|-|\\.|_)+@[A-Za-z]+\\.[A-Za-z]{1,3}>', y)\n",
    "    if m:\n",
    "        print(x,y)"
   ]
  },
  {
   "cell_type": "code",
   "execution_count": null,
   "id": "1c90adc0",
   "metadata": {},
   "outputs": [],
   "source": [
    "#problem 10\n",
    "\n",
    "import re\n",
    "N=int(input())\n",
    "\n",
    "for i in range(0,N):\n",
    "    s=input()\n",
    "\n",
    "    x=s.split()\n",
    "\n",
    "    if len(x)>1  and  '{' not in x:\n",
    "        x=re.findall(r'#[a-fA-F0-9]{3,6}',s)\n",
    "        [print(i) for  i in x]"
   ]
  },
  {
   "cell_type": "code",
   "execution_count": null,
   "id": "9a150cbb",
   "metadata": {},
   "outputs": [],
   "source": [
    "#problem 11\n",
    "\n",
    "from html.parser import HTMLParser\n",
    "class MyHTMLParser(HTMLParser):\n",
    "    def handle_starttag(self, tag, attrs):        \n",
    "        print ('Start :',tag)\n",
    "        for ele in attrs:\n",
    "            print ('->',ele[0],'>',ele[1])\n",
    "            \n",
    "    def handle_endtag(self, tag):\n",
    "        print ('End   :',tag)\n",
    "        \n",
    "    def handle_startendtag(self, tag, attrs):\n",
    "        print ('Empty :',tag)\n",
    "        for ele in attrs:\n",
    "            print ('->',ele[0],'>',ele[1])\n",
    "            \n",
    "MyParser = MyHTMLParser()\n",
    "MyParser.feed(''.join([input().strip() for _ in range(int(input()))]))"
   ]
  },
  {
   "cell_type": "code",
   "execution_count": null,
   "id": "5568dcfb",
   "metadata": {},
   "outputs": [],
   "source": [
    "#problem 12\n",
    "\n",
    "from html.parser import HTMLParser\n",
    "html=\"\"\n",
    "class MyHTMLParser(HTMLParser):\n",
    "  def handle_comment(self,data):\n",
    "        if('\\n' in data):\n",
    "            print(\">>> Multi-line Comment\")\n",
    "        else:\n",
    "            print(\">>> Single-line Comment\")\n",
    "        print(data)\n",
    "  def handle_data(self,data):\n",
    "        if(data != '\\n'):\n",
    "            print(\">>> Data\")\n",
    "            print(data)\n",
    "  \n",
    "         \n",
    "for i in range(int(input())):\n",
    "    html += input().rstrip()\n",
    "    html += '\\n'\n",
    "    \n",
    "parser = MyHTMLParser()\n",
    "parser.feed(html)\n",
    "parser.close()"
   ]
  },
  {
   "cell_type": "code",
   "execution_count": null,
   "id": "6c1edc4e",
   "metadata": {},
   "outputs": [],
   "source": [
    "#problem 13\n",
    "\n",
    "from html.parser import HTMLParser\n",
    "class MyHTMLParser(HTMLParser):\n",
    "    def handle_starttag(self, tag, attrs):\n",
    "        print(tag)\n",
    "        for at in attrs:\n",
    "            print(\"-> {} > {}\".format(at[0], at[1]))\n",
    "    def handle_startendtag(self, tag, attrs):\n",
    "        print(tag)\n",
    "        for at in attrs:\n",
    "            print(\"-> {} > {}\".format(at[0], at[1]))\n",
    "html = \"\"\n",
    "for i in range(int(input())):\n",
    "    html += input().rstrip()+'\\n'\n",
    "parser = MyHTMLParser()\n",
    "parser.feed(html)\n",
    "parser.close()"
   ]
  },
  {
   "cell_type": "code",
   "execution_count": null,
   "id": "ac81f162",
   "metadata": {},
   "outputs": [],
   "source": [
    "#problem 14\n",
    "\n",
    "n=int(input())\n",
    "for i in range(n):\n",
    "    S=str(input())\n",
    "    c=0\n",
    "    for i in S:\n",
    "        if(i.isupper()):\n",
    "            c+=1\n",
    "    if(c>1):\n",
    "        d=0\n",
    "        for j in S:\n",
    "            if(j.isdigit()):\n",
    "                d+=1\n",
    "        if(d>2):\n",
    "            if(S.isalnum()):\n",
    "                if(len(S)==10):\n",
    "                    m=0\n",
    "                    for k in S:\n",
    "                        for h in S:\n",
    "                            if(k==h):\n",
    "                                m+=1\n",
    "                    if(m==10):\n",
    "                        print('Valid')\n",
    "                    else:\n",
    "                        print('Invalid')\n",
    "                else:\n",
    "                    print('Invalid')\n",
    "        else:        \n",
    "            print('Invalid')\n",
    "    else:        \n",
    "        print('Invalid')"
   ]
  },
  {
   "cell_type": "code",
   "execution_count": null,
   "id": "72d10a46",
   "metadata": {},
   "outputs": [],
   "source": [
    "#problem 15\n",
    "\n",
    "import re\n",
    "n=int(input())\n",
    "for i in range(n):\n",
    "    s = input().strip()\n",
    "    pre = re.search(r'^[456]\\d{3}(-?)\\d{4}\\1\\d{4}\\1\\d{4}$',s)\n",
    "    if pre:\n",
    "        processed= \"\".join(pre.group(0).split('-'))\n",
    "        final = re.search(r'(\\d)\\1{3,}',processed)\n",
    "        print ('Invalid' if final else 'Valid')\n",
    "    else:\n",
    "        print('Invalid')\n"
   ]
  },
  {
   "cell_type": "code",
   "execution_count": null,
   "id": "abdf7ae6",
   "metadata": {},
   "outputs": [],
   "source": [
    "#problem 16\n",
    "\n",
    "regex_integer_in_range = r\"^[1-9][\\d]{5}$\"\n",
    "regex_alternating_repetitive_digit_pair = r\"(\\d)(?=\\d\\1)\"\n",
    "\n",
    "\n",
    "import re\n",
    "P = input()\n",
    "\n",
    "print (bool(re.match(regex_integer_in_range, P)) \n",
    "and len(re.findall(regex_alternating_repetitive_digit_pair, P)) < 2)"
   ]
  },
  {
   "cell_type": "code",
   "execution_count": null,
   "id": "3f09299d",
   "metadata": {},
   "outputs": [],
   "source": [
    "#problem 17\n",
    "\n",
    "import math\n",
    "import os\n",
    "import random\n",
    "import re\n",
    "import sys\n",
    "\n",
    "n, m = map(int,input().split())\n",
    "character_ar = [''] * (n*m)\n",
    "for i in range(n):\n",
    "    line = input()\n",
    "    for j in range(m):\n",
    "        character_ar[i+(j*n)]=line[j]\n",
    "decoded_str = ''.join(character_ar)\n",
    "final_decoded_str = re.sub(r'(?<=[A-Za-z0-9])([ !@#$%&]+)(?=[A-Za-z0-9])',' ',decoded_str)\n",
    "print(final_decoded_str)\n"
   ]
  }
 ],
 "metadata": {
  "kernelspec": {
   "display_name": "Python 3 (ipykernel)",
   "language": "python",
   "name": "python3"
  },
  "language_info": {
   "codemirror_mode": {
    "name": "ipython",
    "version": 3
   },
   "file_extension": ".py",
   "mimetype": "text/x-python",
   "name": "python",
   "nbconvert_exporter": "python",
   "pygments_lexer": "ipython3",
   "version": "3.10.2"
  }
 },
 "nbformat": 4,
 "nbformat_minor": 5
}
