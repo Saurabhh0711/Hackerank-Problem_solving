{
 "cells": [
  {
   "cell_type": "code",
   "execution_count": null,
   "id": "c21a21d5",
   "metadata": {},
   "outputs": [],
   "source": [
    "#problem 1\n",
    "\n",
    "from cmath import polar\n",
    "\n",
    "z = complex(input())\n",
    "\n",
    "print(*polar(z), sep='\\n')"
   ]
  },
  {
   "cell_type": "code",
   "execution_count": null,
   "id": "f5bf8b8a",
   "metadata": {},
   "outputs": [],
   "source": [
    "#problem 2\n",
    "\n",
    "from math import degrees, atan2\n",
    "\n",
    "AB = int(input())\n",
    "BC = int(input())\n",
    "\n",
    "RESULT = round(degrees(atan2(AB, BC)))\n",
    "print(str(RESULT))\n"
   ]
  },
  {
   "cell_type": "code",
   "execution_count": null,
   "id": "d17a3226",
   "metadata": {},
   "outputs": [],
   "source": [
    "#problem 3\n",
    "\n",
    "for i in range(1,int(input())+1): \n",
    "    print(((10**i)//9)**2)"
   ]
  },
  {
   "cell_type": "code",
   "execution_count": null,
   "id": "66519a05",
   "metadata": {},
   "outputs": [],
   "source": [
    "#problem 4 \n",
    "\n",
    "a = int(input())\n",
    "b= int(input())\n",
    "\n",
    "print(a//b)\n",
    "\n",
    "print(a%b)\n",
    "\n",
    "c=divmod(a,b)\n",
    "print (c)"
   ]
  },
  {
   "cell_type": "code",
   "execution_count": null,
   "id": "261ef130",
   "metadata": {},
   "outputs": [],
   "source": [
    "#problem 5\n",
    "\n",
    "import math\n",
    "\n",
    "a=int(input())\n",
    "b=int(input())\n",
    "m=int(input())\n",
    "print(pow(a,b))\n",
    "print(pow(a,b,m))"
   ]
  },
  {
   "cell_type": "code",
   "execution_count": null,
   "id": "3acce3a8",
   "metadata": {},
   "outputs": [],
   "source": [
    "#problem 6\n",
    "\n",
    "import math\n",
    "\n",
    "a=int(input())\n",
    "b=int(input())\n",
    "c=int(input())\n",
    "d=int(input())\n",
    "\n",
    "print(pow(a,b)+pow(c,d))"
   ]
  },
  {
   "cell_type": "code",
   "execution_count": null,
   "id": "712491db",
   "metadata": {},
   "outputs": [],
   "source": [
    "#problem 7\n",
    "\n",
    "for i in range(1,int(input())): \n",
    "    print((10**(i)//9)*i)"
   ]
  }
 ],
 "metadata": {
  "kernelspec": {
   "display_name": "Python 3 (ipykernel)",
   "language": "python",
   "name": "python3"
  },
  "language_info": {
   "codemirror_mode": {
    "name": "ipython",
    "version": 3
   },
   "file_extension": ".py",
   "mimetype": "text/x-python",
   "name": "python",
   "nbconvert_exporter": "python",
   "pygments_lexer": "ipython3",
   "version": "3.10.2"
  }
 },
 "nbformat": 4,
 "nbformat_minor": 5
}
